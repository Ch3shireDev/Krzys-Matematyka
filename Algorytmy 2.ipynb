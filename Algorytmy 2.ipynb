{
 "cells": [
  {
   "cell_type": "markdown",
   "metadata": {},
   "source": [
    "# Algorytmy 2\n",
    "\n",
    "![](pajeczaki.png)"
   ]
  },
  {
   "cell_type": "markdown",
   "metadata": {},
   "source": [
    "## Analiza zadania\n",
    "\n",
    "Struktura przedstawiona w zadaniu to drzewo - opis drzewa w postaci stringa jest celowo podany w nieprzystępny sposób. Jednak po dłuższym przyjrzeniu się możemy znaleźć regularność. Spójrzmy na słowo `JDJDZJDZZZ`:\n",
    "\n",
    "1. `J` - węzeł z jedną odnogą. Pamiętamy że jest jedno wolne miejsce\n",
    "2. `D` - węzeł z dwiema odnogami - doczepiamy do 1 (brak wolnych miejsc). Pamiętamy że dla 2. są dwa wolne miejsca\n",
    "3. `J` - węzeł z jedną odnogą - pamiętamy że 3. ma jedno wolne miejsce, doczepiamy do 2. (zostaje jedno wolne miejsce w 2)\n",
    "4. `D` - węzeł z dwoma odnogami - pamiętamy że są dwa wolne miejsca. Doczepiamy do 3.\n",
    "5. `Z` - węzeł bez odnóg. Doczepiamy do 4, gdzie zostaje jedno wolne miejsce.\n",
    "6. `J` - węzeł bez odnóg. Doczepiamy do 4, gdzie nie zostaje żadnych wolnych miejsc.\n",
    "\n",
    "... i tak dalej, i tak dalej. \n",
    "\n",
    "## Rozwiązanie\n",
    "\n",
    "Możemy przerobić cały zapis słowny na drzewo (postaci list z list) korzystając z prostego algorytmu:\n",
    "\n",
    "1. Stwórz zmienną przechowującą całe drzewo: `tree`\n",
    "2. Stwórz zmienną przechowującą listę wskaźników do elementów drzewa: `elements`\n",
    "3. Dla każdej litery powtarzaj co następuje:\n",
    "    1. Utwórz element jako pustą listę.\n",
    "    2. Jeśli zmienna `tree` jest pusta, ustal `tree` jako nową listę\n",
    "    3. W przeciwnym wypadku pobierz z tablicy `elements` ostatni wskaźnik (usuwając go), i do listy pokazywanej przez wskaźnik dopisz element\n",
    "    4. Jeśli bieżąca litera jest równa `J`, do listy `elements` dodaj raz wskaźnik na bieżący element\n",
    "    5. Jeśli bieżąca litera jest równa `D`, do listy `elements` dodaj dwa razy wskaźnik na bieżący element\n",
    "    6. Jeśli bieżąca litera jest równa `T`, do listy `elements` dodaj trzy razy wskaźnik na bieżący element\n",
    "    \n",
    "W ten sposób uzyskujemy strukturę drzewa z zapisu słownego.\n",
    "\n",
    "Drugi etap to zbadanie głębokości drzewa. To akurat będzie proste. Głębokość drzewa to:\n",
    "\n",
    "1 - jeśli drzewo jest puste, lub 1 + największa z głębokości poddrzew będących elementami drzewa.\n"
   ]
  },
  {
   "cell_type": "markdown",
   "metadata": {},
   "source": [
    "## Zadania przygotowawcze\n",
    "\n",
    "1. Stwórz funkcję która bada maksymalną głębokość listy list. Za przykładowe dane weź:\n",
    "\n",
    "`[[[[[[[]]]]]]]` - wartość 7\n",
    "`[[[[[[[[]],[]]]]]],[[]]]` - wartość 8\n",
    "\n",
    "2. Uporządkuj listę liczb w drzewie."
   ]
  },
  {
   "cell_type": "markdown",
   "metadata": {},
   "source": [
    "# Pozostałe\n",
    "\n",
    "![](tramwaj.png)\n",
    "![](lista_liczbowa.png)"
   ]
  }
 ],
 "metadata": {
  "kernelspec": {
   "display_name": "Python 3",
   "language": "python",
   "name": "python3"
  },
  "language_info": {
   "codemirror_mode": {
    "name": "ipython",
    "version": 3
   },
   "file_extension": ".py",
   "mimetype": "text/x-python",
   "name": "python",
   "nbconvert_exporter": "python",
   "pygments_lexer": "ipython3",
   "version": "3.7.4"
  }
 },
 "nbformat": 4,
 "nbformat_minor": 2
}
