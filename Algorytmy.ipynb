{
 "cells": [
  {
   "cell_type": "markdown",
   "metadata": {},
   "source": [
    "# Algorytmy\n",
    "\n",
    "## Listy\n",
    "\n",
    "\n",
    "### Zliczanie według kryterium\n",
    "\n",
    "1. Policz elementy listy które są podzielne przez trzy.\n",
    "2. Policz słowa na liście które zawierają literę `a`.\n",
    "3. Policz słowa o długości dokładnie `5`.\n",
    "4. Policz liczby mniejsze od 10.\n",
    "5. Policz liczby mniejsze od ustalonej wartości.\n",
    "6. Policz wszystkie wystąpienia cyfry `5` na liście liczb.\n",
    "\n",
    "### Znajdywanie `max` lub `min`\n",
    "\n",
    "1. Wypisz słowo z listy zawierające minimalną liczbę samogłosek. Jeśli jest więcej niż jedno takie słowo, wypisz pierwsze z nich.\n",
    "2. Wypisz wszystkie słowa z listy zawierające minimalną liczbę samogłosek.\n",
    "3. Znajdź (wszystkie) liczby o największej ilości cyfr `1`.\n",
    "\n",
    "### Przeszukiwanie typu brute-force\n",
    "\n",
    "1. Znajdź wszystkie pary liczb, których suma wynosi 20.\n",
    "2. Znajdź wszystkie pary słów które razem tworzą palindrom.\n",
    "3. Wśród słów składających się z liter `a` i `b` znajdź wszystkie pary komplementarne (tj. `aabba` będzie miało parę komplementarną `bbaab`).\n",
    "\n",
    "### Sortowanie\n",
    "\n",
    "1. Uporządkuj listę słów według liczby samogłosek.\n",
    "2. Uporządkuj liczby według wartości modulo 20.\n",
    "3. Uporządkuj liczby według ilości cyfr `1`.\n",
    "4. Uporządkuj słowa wedle długości.\n",
    "\n",
    "## Rekurencja\n",
    "\n",
    "1. Stwórz funkcję rekurencyjną zwracającą wartości ciągu $a_n = a_{n-1} + 2*a_{n-2}$, dla $a_0 = 1$, $a_1 = 2$.\n",
    "\n",
    "<!--\n",
    "\n",
    "## Algorytm zachłanny\n",
    "\n",
    "## Algorytm dziel i zwyciężaj\n",
    "\n",
    "-->\n",
    "\n",
    "https://eduinf.waw.pl/inf/alg/001_search/0002.php"
   ]
  }
 ],
 "metadata": {
  "kernelspec": {
   "display_name": "Python 3",
   "language": "python",
   "name": "python3"
  },
  "language_info": {
   "codemirror_mode": {
    "name": "ipython",
    "version": 3
   },
   "file_extension": ".py",
   "mimetype": "text/x-python",
   "name": "python",
   "nbconvert_exporter": "python",
   "pygments_lexer": "ipython3",
   "version": "3.7.4"
  }
 },
 "nbformat": 4,
 "nbformat_minor": 2
}
