{
 "cells": [
  {
   "cell_type": "markdown",
   "metadata": {},
   "source": [
    "# Spotkanie 4 - Liczby pierwsze\n",
    "\n",
    "2, 3, 5, 7, 11, 13, 17... wymienione liczby, pomimo pewnej z pozoru chaotyczności, mają bardzo istotny wewnętrzny porządek - stanowią one kolejne **liczby pierwsze**. Liczby pierwsze to takie, które nie dzielą się przez żadną inną liczbę pierwszą. Z tego powodu 1 wykluczamy ze zbioru liczb pierwszych. Ok, ale czy potrafimy wyliczać kolejne liczby?"
   ]
  },
  {
   "cell_type": "markdown",
   "metadata": {},
   "source": [
    "## Najprostszy algorytm na pierwszość\n",
    "\n",
    "Sprawdzamy, czy liczba dzieli się przez wszystkie liczby od niej mniejsze."
   ]
  },
  {
   "cell_type": "code",
   "execution_count": 4,
   "metadata": {},
   "outputs": [
    {
     "name": "stdout",
     "output_type": "stream",
     "text": [
      "2, 3, 5, 7, 11, 13, 17, 19, 23, 29, 31, 37, 41, 43, 47, 53, 59, 61, 67, 71, 73, 79, 83, 89, 97, "
     ]
    }
   ],
   "source": [
    "for i in range(2,100):\n",
    "    flag = True\n",
    "    for j in range(2,i):\n",
    "        if i%j==0:\n",
    "            flag = False\n",
    "            break\n",
    "    if flag:\n",
    "        print(i, end=\", \")"
   ]
  },
  {
   "cell_type": "markdown",
   "metadata": {},
   "source": [
    "Do tego algorytmu musimy być w stanie przeprowadzić parę operacji. Po pierwsze, wyliczanie po przedziale, tj. pętla `for`. Używając tej pętli możemy przejść po elementach aż do liczby `n`:"
   ]
  },
  {
   "cell_type": "code",
   "execution_count": 5,
   "metadata": {
    "collapsed": true
   },
   "outputs": [],
   "source": [
    "for i in range(100):\n",
    "    pass"
   ]
  },
  {
   "cell_type": "markdown",
   "metadata": {},
   "source": [
    "Jeśli chcielibyśmy zakres **od** jakiejś liczby do innej liczby, piszemy:"
   ]
  },
  {
   "cell_type": "code",
   "execution_count": 6,
   "metadata": {
    "collapsed": true
   },
   "outputs": [],
   "source": [
    "for i in range(2,100):\n",
    "    pass"
   ]
  },
  {
   "cell_type": "markdown",
   "metadata": {},
   "source": [
    "Druga operacja - modulo. Jeśli na liczbach całkowitych wykonamy dzielenie, np. :"
   ]
  },
  {
   "cell_type": "code",
   "execution_count": 8,
   "metadata": {},
   "outputs": [
    {
     "data": {
      "text/plain": [
       "2"
      ]
     },
     "execution_count": 8,
     "metadata": {},
     "output_type": "execute_result"
    }
   ],
   "source": [
    "7//3"
   ]
  },
  {
   "cell_type": "markdown",
   "metadata": {},
   "source": [
    "Mamy tutaj przykład tzw. **dzielenia z resztą**. Sprawdzamy, ile razy liczba 3 mieści się w liczbie 7. Oczywiście, 2 razy. A gdybyśmy chcieli wiedzieć, czy po tym dzieleniu nie zostaje nam jakaś reszta?"
   ]
  },
  {
   "cell_type": "code",
   "execution_count": 9,
   "metadata": {},
   "outputs": [
    {
     "data": {
      "text/plain": [
       "1"
      ]
     },
     "execution_count": 9,
     "metadata": {},
     "output_type": "execute_result"
    }
   ],
   "source": [
    "7%3"
   ]
  },
  {
   "cell_type": "markdown",
   "metadata": {},
   "source": [
    "Możemy powiedzieć, że liczba $a$ będzie podzielna przez $b$ dopiero wtedy, gdy reszta z dzielenia $a/b$ jest równa zeru, tj `a%b==0`."
   ]
  },
  {
   "cell_type": "markdown",
   "metadata": {},
   "source": [
    "## Kwadraty - Logia 95\n",
    "\n",
    "![](./kwadraty.png)"
   ]
  },
  {
   "cell_type": "markdown",
   "metadata": {},
   "source": [
    "## Posadzka - Minilogia 03\n",
    "\n",
    "![](./pos2.png)"
   ]
  },
  {
   "cell_type": "code",
   "execution_count": null,
   "metadata": {
    "collapsed": true
   },
   "outputs": [],
   "source": []
  }
 ],
 "metadata": {
  "kernelspec": {
   "display_name": "Python 3",
   "language": "python",
   "name": "python3"
  },
  "language_info": {
   "codemirror_mode": {
    "name": "ipython",
    "version": 3
   },
   "file_extension": ".py",
   "mimetype": "text/x-python",
   "name": "python",
   "nbconvert_exporter": "python",
   "pygments_lexer": "ipython3",
   "version": "3.6.3"
  }
 },
 "nbformat": 4,
 "nbformat_minor": 2
}
